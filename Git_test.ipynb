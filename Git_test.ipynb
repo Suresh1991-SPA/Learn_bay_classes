{
 "cells": [
  {
   "cell_type": "code",
   "execution_count": 1,
   "id": "cfdbd835-fd7a-4bb5-866c-885b29dc189b",
   "metadata": {},
   "outputs": [
    {
     "name": "stdout",
     "output_type": "stream",
     "text": [
      "46\n"
     ]
    }
   ],
   "source": [
    "print(10+36)"
   ]
  },
  {
   "cell_type": "code",
   "execution_count": null,
   "id": "7b6628a2-d6fc-4d31-ac85-a1407f313e0f",
   "metadata": {},
   "outputs": [],
   "source": []
  }
 ],
 "metadata": {
  "kernelspec": {
   "display_name": "Python [conda env:base] *",
   "language": "python",
   "name": "conda-base-py"
  },
  "language_info": {
   "codemirror_mode": {
    "name": "ipython",
    "version": 3
   },
   "file_extension": ".py",
   "mimetype": "text/x-python",
   "name": "python",
   "nbconvert_exporter": "python",
   "pygments_lexer": "ipython3",
   "version": "3.12.7"
  }
 },
 "nbformat": 4,
 "nbformat_minor": 5
}
