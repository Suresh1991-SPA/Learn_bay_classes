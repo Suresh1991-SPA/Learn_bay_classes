{
 "cells": [
  {
   "cell_type": "code",
   "execution_count": 1,
   "id": "e1179033-2038-4eba-aee1-7c237d2634f0",
   "metadata": {},
   "outputs": [
    {
     "name": "stdout",
     "output_type": "stream",
     "text": [
      "How can i help you\n"
     ]
    }
   ],
   "source": [
    "print('How can i help you')"
   ]
  },
  {
   "cell_type": "code",
   "execution_count": 2,
   "id": "8fdd3b5d-f4e8-4960-96b4-d32768c92323",
   "metadata": {},
   "outputs": [],
   "source": [
    "friends = {\n",
    "    'Name' : ['Sucha','Sajeet','Pankaj','Rajamani'],\n",
    "    'City' : ['Chennai', 'Madurai', 'Trichy','Kumapatti'],\n",
    "    'Marks': [98,99,100,45]\n",
    "\n",
    "}"
   ]
  },
  {
   "cell_type": "code",
   "execution_count": 3,
   "id": "8cb4d961-4841-41ae-8756-f2b07d8b987c",
   "metadata": {},
   "outputs": [
    {
     "data": {
      "text/plain": [
       "{'Name': ['Sucha', 'Sajeet', 'Pankaj', 'Rajamani'],\n",
       " 'City': ['Chennai', 'Madurai', 'Trichy', 'Kumapatti'],\n",
       " 'Marks': [98, 99, 100, 45]}"
      ]
     },
     "execution_count": 3,
     "metadata": {},
     "output_type": "execute_result"
    }
   ],
   "source": [
    "friends"
   ]
  },
  {
   "cell_type": "code",
   "execution_count": null,
   "id": "80c0ca49-048b-4aec-8008-5327b4ee7ae1",
   "metadata": {},
   "outputs": [],
   "source": []
  }
 ],
 "metadata": {
  "kernelspec": {
   "display_name": "Python [conda env:base] *",
   "language": "python",
   "name": "conda-base-py"
  },
  "language_info": {
   "codemirror_mode": {
    "name": "ipython",
    "version": 3
   },
   "file_extension": ".py",
   "mimetype": "text/x-python",
   "name": "python",
   "nbconvert_exporter": "python",
   "pygments_lexer": "ipython3",
   "version": "3.12.7"
  }
 },
 "nbformat": 4,
 "nbformat_minor": 5
}
